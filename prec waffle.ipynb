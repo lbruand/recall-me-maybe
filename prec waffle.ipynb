{
 "cells": [
  {
   "cell_type": "code",
   "execution_count": 13,
   "metadata": {},
   "outputs": [],
   "source": [
    "import matplotlib as mpl\n",
    "import matplotlib.pyplot as plt\n",
    "from sklearn.metrics import confusion_matrix\n",
    "from pywaffle import Waffle\n",
    "import numpy as np\n",
    "import math\n",
    "import itertools"
   ]
  },
  {
   "cell_type": "code",
   "execution_count": 2,
   "metadata": {},
   "outputs": [],
   "source": [
    "prec = 0.87\n",
    "recall = 0.37"
   ]
  },
  {
   "cell_type": "code",
   "execution_count": 3,
   "metadata": {},
   "outputs": [],
   "source": [
    "# (prec - 1) * tp + prec * fp = 0\n",
    "#(recall - 1) * tp + recall * fn = 0 \n",
    "# tp + fp + fn + tn = 1"
   ]
  },
  {
   "cell_type": "code",
   "execution_count": 4,
   "metadata": {},
   "outputs": [],
   "source": [
    "y_true = [0, 0, 1, 1, 0, 1, 1, 0, 0]\n",
    "y_pred = [0, 0, 0, 0, 1, 1, 1, 0, 0]\n",
    "cm = confusion_matrix(y_true, y_pred)"
   ]
  },
  {
   "cell_type": "code",
   "execution_count": 5,
   "metadata": {},
   "outputs": [
    {
     "data": {
      "text/plain": [
       "array([[4, 1],\n",
       "       [2, 2]])"
      ]
     },
     "execution_count": 5,
     "metadata": {},
     "output_type": "execute_result"
    }
   ],
   "source": [
    "cm"
   ]
  },
  {
   "cell_type": "code",
   "execution_count": 6,
   "metadata": {},
   "outputs": [
    {
     "name": "stderr",
     "output_type": "stream",
     "text": [
      "/home/lucas/anaconda3/lib/python3.7/site-packages/ipykernel_launcher.py:7: UserWarning: Matplotlib is currently using module://ipykernel.pylab.backend_inline, which is a non-GUI backend, so cannot show the figure.\n",
      "  import sys\n"
     ]
    },
    {
     "data": {
      "image/png": "[encoded data removed]",
      "text/plain": [
       "<Waffle size 432x288 with 1 Axes>"
      ]
     },
     "metadata": {
      "needs_background": "light"
     },
     "output_type": "display_data"
    }
   ],
   "source": [
    "fig = plt.figure(\n",
    "    FigureClass=Waffle,\n",
    "    rows=5,\n",
    "    columns=10,  # Either rows or columns could be omitted\n",
    "    values=cm.ravel()\n",
    ")\n",
    "fig.show()"
   ]
  },
  {
   "cell_type": "code",
   "execution_count": 7,
   "metadata": {},
   "outputs": [],
   "source": [
    "tn, fp, fn, tp = cm.ravel()"
   ]
  },
  {
   "cell_type": "code",
   "execution_count": 8,
   "metadata": {},
   "outputs": [
    {
     "name": "stderr",
     "output_type": "stream",
     "text": [
      "/home/lucas/anaconda3/lib/python3.7/site-packages/ipykernel_launcher.py:10: UserWarning: Matplotlib is currently using module://ipykernel.pylab.backend_inline, which is a non-GUI backend, so cannot show the figure.\n",
      "  # Remove the CWD from sys.path while we load stuff.\n"
     ]
    },
    {
     "data": {
      "image/png": "[encoded data removed]",
      "text/plain": [
       "<Waffle size 432x288 with 1 Axes>"
      ]
     },
     "metadata": {
      "needs_background": "light"
     },
     "output_type": "display_data"
    }
   ],
   "source": [
    "reordered = [fn, tp, fp, tn]\n",
    "colors=[\"darkgrey\", \"green\", \"red\", \"lightgrey\"]\n",
    "fig = plt.figure(\n",
    "    FigureClass=Waffle,\n",
    "    rows=10,\n",
    "    columns=10,  # Either rows or columns could be omitted\n",
    "    values=reordered,\n",
    "    colors=[\"darkgrey\", \"green\", \"red\", \"lightgrey\"]\n",
    ")\n",
    "fig.show()"
   ]
  },
  {
   "cell_type": "code",
   "execution_count": 9,
   "metadata": {},
   "outputs": [
    {
     "name": "stdout",
     "output_type": "stream",
     "text": [
      "<class 'pywaffle.waffle.Waffle'>\n"
     ]
    },
    {
     "name": "stderr",
     "output_type": "stream",
     "text": [
      "/home/lucas/anaconda3/lib/python3.7/site-packages/ipykernel_launcher.py:48: UserWarning: Matplotlib is currently using module://ipykernel.pylab.backend_inline, which is a non-GUI backend, so cannot show the figure.\n"
     ]
    },
    {
     "data": {
      "image/png": "[encoded data removed]",
      "text/plain": [
       "<Waffle size 432x288 with 4 Axes>"
      ]
     },
     "metadata": {
      "needs_background": "light"
     },
     "output_type": "display_data"
    }
   ],
   "source": [
    "reordered = [fn, tp, fp, tn]\n",
    "colors=[\"#88a770\", \"green\", \"red\", \"lightgrey\"]\n",
    "\n",
    "rows = 10\n",
    "cols = 10\n",
    "col_ratio = (fn+tp)/sum(reordered)\n",
    "col_part = int(round(cols * col_ratio))\n",
    "\n",
    "fig = plt.figure(\n",
    "    FigureClass=Waffle,\n",
    "    rows=rows // 2,\n",
    "      # Either rows or columns could be omitted\n",
    "    plots = {\n",
    "        \"221\": {\n",
    "            'values':[n/2 for n in reordered[:2] ],\n",
    "            'starting_location': \"NW\",\n",
    "            \"colors\": colors[:2],\n",
    "            \"columns\": col_part,\n",
    "        },\n",
    "        \"223\": {\n",
    "            'values':[n/2 for n in reordered[:2] ],\n",
    "            'starting_location': \"SW\",\n",
    "            \"colors\": colors[:2],\n",
    "            \"columns\": col_part,\n",
    "        },\n",
    "        \n",
    "        \"222\": {\n",
    "            'values':[n/2 for n in reordered[2:] ],\n",
    "            'starting_location': \"SW\",\n",
    "            \"colors\": colors[2:],\n",
    "            \"columns\": cols - col_part,\n",
    "        },\n",
    "        \"224\": {\n",
    "            'values':[n/2 for n in reordered[2:] ],\n",
    "            'starting_location': \"NW\",\n",
    "            \"colors\": colors[2:],\n",
    "            \"columns\": cols - col_part,\n",
    "        },\n",
    "        \n",
    "    },\n",
    "    #values=[fn/2, tp/2],\n",
    "    \n",
    "    vertical=False,\n",
    ")\n",
    "\n",
    "print(fig.__class__)\n",
    "\n",
    "fig.show()"
   ]
  },
  {
   "cell_type": "code",
   "execution_count": 45,
   "metadata": {},
   "outputs": [
    {
     "name": "stdout",
     "output_type": "stream",
     "text": [
      "(9, 7)\n",
      "midh = 5, h = 10\n",
      "tp = 64\n",
      "fp = 32\n"
     ]
    },
    {
     "data": {
      "image/png": "[encoded data removed]",
      "text/plain": [
       "<Figure size 432x288 with 1 Axes>"
      ]
     },
     "metadata": {},
     "output_type": "display_data"
    }
   ],
   "source": [
    "\n",
    "def build_waffle_matrix(size, confusion_matrix):\n",
    "    rows, cols = size\n",
    "    hmap = np.ones( (rows, cols) )\n",
    "    tn, fp, fn, tp = cm.ravel()\n",
    "    col_ratio = (fn+tp)/sum(cm.ravel())\n",
    "    col_part = int(math.floor(cols * col_ratio))\n",
    "    col_rest = int()\n",
    "    fn_tp_boxes = (fn+tp) * cols * rows // sum(cm.ravel())    \n",
    "\n",
    "    for n in range(fn_tp_boxes, rows * cols):\n",
    "        ix = n % rows\n",
    "        iy = n // cols\n",
    "        hmap[ix, iy] = 4\n",
    "\n",
    "    h = int(math.ceil(max( tp/col_part, fp / (cols - col_part)) * rows * cols/ sum(reordered)))\n",
    "\n",
    "\n",
    "    centery = col_part\n",
    "    centerx = int(math.ceil(rows / 2))\n",
    "    print( (centerx, centery) )\n",
    "    midh = int(round(h/2))\n",
    "    tp_boxes = int(round(tp * cols * rows / sum(reordered)))\n",
    "    fp_boxes = int(round(fp * cols * rows / sum(reordered)))\n",
    "    print(f\"midh = {midh}, h = {h}\")\n",
    "    print(f\"tp = {tp_boxes}\")\n",
    "    print(f\"fp = {fp_boxes}\")\n",
    "    def boxes_generator(direction=-1, expected_value=1):\n",
    "        n = 0\n",
    "        while (True):\n",
    "            ix = centerx - midh + (n % h) \n",
    "            iy = centery + direction * (n//h - 1)\n",
    "            \n",
    "            n += 1\n",
    "            if hmap[ix, iy] == expected_value:\n",
    "                yield ix, iy\n",
    "                \n",
    "    tp_boxes_gen = boxes_generator(direction=-1, expected_value=1)\n",
    "    toUpdate = itertools.islice(tp_boxes_gen, tp_boxes)        \n",
    "    for xy in toUpdate:\n",
    "        ix, iy = xy\n",
    "        assert(hmap[ix, iy] == 1)\n",
    "        hmap[ix, iy] = 2\n",
    "        \n",
    "    fp_boxes_gen = boxes_generator(direction=1, expected_value=4)\n",
    "    toUpdate = itertools.islice(fp_boxes_gen, fp_boxes)\n",
    "    for xy in toUpdate:\n",
    "        ix, iy = xy        \n",
    "        assert(hmap[ix, iy] == 4)\n",
    "        hmap[ix, iy] = 3\n",
    "        \n",
    "    return hmap\n",
    "\n",
    "def plot_waffle_matrix(hmap, \n",
    "                       cmap = (mpl.colors.ListedColormap([\"#88a770\", \"darkgreen\", \"red\", \"lightgrey\"])), \n",
    "                       linewidth=5\n",
    "                      ):\n",
    "    fig, ax = plt.subplots()\n",
    "\n",
    "    im = ax.imshow(hmap, cmap=cmap)\n",
    "    ax.set_xlabel(None)\n",
    "    ax.set_ylabel(None)\n",
    "    unitmove = 1.0\n",
    "    ax.set_xticks([])\n",
    "    ax.set_yticks([])\n",
    "    ax.set_xticks(np.arange(hmap.shape[1]+unitmove)-unitmove/2, minor=True)\n",
    "    ax.set_yticks(np.arange(hmap.shape[0]+unitmove)-unitmove/2, minor=True)\n",
    "    \n",
    "    ax.grid(which=\"minor\", color=\"w\", linestyle='-', linewidth=linewidth)\n",
    "    ax.tick_params(which=\"minor\", bottom=False, left=False)\n",
    "    ax.spines['top'].set_visible(False)\n",
    "    ax.spines['right'].set_visible(False)\n",
    "    ax.spines['bottom'].set_visible(False)\n",
    "    ax.spines['left'].set_visible(False)\n",
    "\n",
    "hmap = build_waffle_matrix( (17, 17), cm)\n",
    "plot_waffle_matrix(hmap)"
   ]
  },
  {
   "cell_type": "code",
   "execution_count": 46,
   "metadata": {},
   "outputs": [
    {
     "name": "stdout",
     "output_type": "stream",
     "text": [
      "(8, 6)\n",
      "midh = 4, h = 9\n",
      "tp = 50\n",
      "fp = 25\n",
      "[ 50.  50.  25. 100.]\n",
      "[ 50  50  25 100]\n",
      "counts sum = 225 - cols x rows = 225 \n"
     ]
    }
   ],
   "source": [
    "cols = 15\n",
    "rows = 15\n",
    "\n",
    "def test_build_waffle_matrix(cols, rows, cm):\n",
    "hmap = build_waffle_matrix( (cols, rows), cm)\n",
    "tn, fp, fn, tp = cm.ravel()\n",
    "_, counts = np.unique(hmap, return_counts=True)\n",
    "ordered_vector = [fn, tp, fp, tn]\n",
    "normalized_vect =  ordered_vector / sum(ordered_vector) * cols * rows\n",
    "\n",
    "print(normalized_vect)\n",
    "print(counts)\n",
    "print(f\"counts sum = {sum(counts)} - cols x rows = { cols * rows} \")\n",
    "\n",
    "for error in (normalized_vect - counts):\n",
    "    assert -1.0 <= error <= 1.0\n"
   ]
  },
  {
   "cell_type": "code",
   "execution_count": null,
   "metadata": {},
   "outputs": [],
   "source": [
    "tp/sum(reordered) * cols * rows\n"
   ]
  },
  {
   "cell_type": "code",
   "execution_count": null,
   "metadata": {},
   "outputs": [],
   "source": [
    "7*6+1"
   ]
  },
  {
   "cell_type": "code",
   "execution_count": null,
   "metadata": {},
   "outputs": [],
   "source": [
    "max( tp/col_part, fp / (cols - col_part))"
   ]
  },
  {
   "cell_type": "code",
   "execution_count": null,
   "metadata": {},
   "outputs": [],
   "source": [
    "(tp/col_part, fp / (cols - col_part))"
   ]
  },
  {
   "cell_type": "code",
   "execution_count": null,
   "metadata": {},
   "outputs": [],
   "source": [
    "col_part"
   ]
  },
  {
   "cell_type": "code",
   "execution_count": null,
   "metadata": {},
   "outputs": [],
   "source": []
  }
 ],
 "metadata": {
  "kernelspec": {
   "display_name": "Python 3",
   "language": "python",
   "name": "python3"
  },
  "language_info": {
   "codemirror_mode": {
    "name": "ipython",
    "version": 3
   },
   "file_extension": ".py",
   "mimetype": "text/x-python",
   "name": "python",
   "nbconvert_exporter": "python",
   "pygments_lexer": "ipython3",
   "version": "3.7.6"
  }
 },
 "nbformat": 4,
 "nbformat_minor": 4
}
