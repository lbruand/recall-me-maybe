{
 "cells": [
  {
   "cell_type": "code",
   "execution_count": 149,
   "metadata": {},
   "outputs": [],
   "source": [
    "import matplotlib as mpl\n",
    "import matplotlib.pyplot as plt\n",
    "from sklearn.metrics import confusion_matrix\n",
    "from pywaffle import Waffle\n",
    "import numpy as np\n",
    "import math"
   ]
  },
  {
   "cell_type": "code",
   "execution_count": 2,
   "metadata": {},
   "outputs": [],
   "source": [
    "prec = 0.87\n",
    "recall = 0.37"
   ]
  },
  {
   "cell_type": "code",
   "execution_count": 3,
   "metadata": {},
   "outputs": [
    {
     "ename": "SyntaxError",
     "evalue": "can't assign to operator (<ipython-input-3-411b0d50f7f8>, line 1)",
     "output_type": "error",
     "traceback": [
      "\u001b[0;36m  File \u001b[0;32m\"<ipython-input-3-411b0d50f7f8>\"\u001b[0;36m, line \u001b[0;32m1\u001b[0m\n\u001b[0;31m    (prec - 1) * tp + prec * fp = 0\u001b[0m\n\u001b[0m                                   ^\u001b[0m\n\u001b[0;31mSyntaxError\u001b[0m\u001b[0;31m:\u001b[0m can't assign to operator\n"
     ]
    }
   ],
   "source": [
    "# (prec - 1) * tp + prec * fp = 0\n",
    "#(recall - 1) * tp + recall * fn = 0 \n",
    "# tp + fp + fn + tn = 1"
   ]
  },
  {
   "cell_type": "code",
   "execution_count": 231,
   "metadata": {},
   "outputs": [],
   "source": [
    "y_true = [0, 0, 1, 1, 0, 1, 1, 0, 0]\n",
    "y_pred = [0, 0, 0, 0, 1, 1, 1, 0, 0]\n",
    "cm = confusion_matrix(y_true, y_pred)"
   ]
  },
  {
   "cell_type": "code",
   "execution_count": 232,
   "metadata": {},
   "outputs": [
    {
     "data": {
      "text/plain": [
       "array([[4, 1],\n",
       "       [2, 2]])"
      ]
     },
     "execution_count": 232,
     "metadata": {},
     "output_type": "execute_result"
    }
   ],
   "source": [
    "cm"
   ]
  },
  {
   "cell_type": "code",
   "execution_count": 233,
   "metadata": {},
   "outputs": [
    {
     "name": "stderr",
     "output_type": "stream",
     "text": [
      "/home/lucas/anaconda3/lib/python3.7/site-packages/ipykernel_launcher.py:7: UserWarning: Matplotlib is currently using module://ipykernel.pylab.backend_inline, which is a non-GUI backend, so cannot show the figure.\n",
      "  import sys\n"
     ]
    },
    {
     "data": {
      "image/png": "[encoded data removed]",
      "text/plain": [
       "<Waffle size 432x288 with 1 Axes>"
      ]
     },
     "metadata": {
      "needs_background": "light"
     },
     "output_type": "display_data"
    }
   ],
   "source": [
    "fig = plt.figure(\n",
    "    FigureClass=Waffle,\n",
    "    rows=5,\n",
    "    columns=10,  # Either rows or columns could be omitted\n",
    "    values=cm.ravel()\n",
    ")\n",
    "fig.show()"
   ]
  },
  {
   "cell_type": "code",
   "execution_count": 234,
   "metadata": {},
   "outputs": [],
   "source": [
    "tn, fp, fn, tp = cm.ravel()"
   ]
  },
  {
   "cell_type": "code",
   "execution_count": 235,
   "metadata": {},
   "outputs": [
    {
     "name": "stderr",
     "output_type": "stream",
     "text": [
      "/home/lucas/anaconda3/lib/python3.7/site-packages/ipykernel_launcher.py:10: UserWarning: Matplotlib is currently using module://ipykernel.pylab.backend_inline, which is a non-GUI backend, so cannot show the figure.\n",
      "  # Remove the CWD from sys.path while we load stuff.\n"
     ]
    },
    {
     "data": {
      "image/png": "[encoded data removed]",
      "text/plain": [
       "<Waffle size 432x288 with 1 Axes>"
      ]
     },
     "metadata": {
      "needs_background": "light"
     },
     "output_type": "display_data"
    }
   ],
   "source": [
    "reordered = [fn, tp, fp, tn]\n",
    "colors=[\"darkgrey\", \"green\", \"red\", \"lightgrey\"]\n",
    "fig = plt.figure(\n",
    "    FigureClass=Waffle,\n",
    "    rows=10,\n",
    "    columns=10,  # Either rows or columns could be omitted\n",
    "    values=reordered,\n",
    "    colors=[\"darkgrey\", \"green\", \"red\", \"lightgrey\"]\n",
    ")\n",
    "fig.show()"
   ]
  },
  {
   "cell_type": "code",
   "execution_count": 240,
   "metadata": {},
   "outputs": [
    {
     "name": "stdout",
     "output_type": "stream",
     "text": [
      "<class 'pywaffle.waffle.Waffle'>\n"
     ]
    },
    {
     "name": "stderr",
     "output_type": "stream",
     "text": [
      "/home/lucas/anaconda3/lib/python3.7/site-packages/ipykernel_launcher.py:48: UserWarning: Matplotlib is currently using module://ipykernel.pylab.backend_inline, which is a non-GUI backend, so cannot show the figure.\n"
     ]
    },
    {
     "data": {
      "image/png": "[encoded data removed]",
      "text/plain": [
       "<Waffle size 432x288 with 4 Axes>"
      ]
     },
     "metadata": {
      "needs_background": "light"
     },
     "output_type": "display_data"
    }
   ],
   "source": [
    "reordered = [fn, tp, fp, tn]\n",
    "colors=[\"#88a770\", \"green\", \"red\", \"lightgrey\"]\n",
    "\n",
    "rows = 10\n",
    "cols = 10\n",
    "col_ratio = (fn+tp)/sum(reordered)\n",
    "col_part = int(round(cols * col_ratio))\n",
    "\n",
    "fig = plt.figure(\n",
    "    FigureClass=Waffle,\n",
    "    rows=rows // 2,\n",
    "      # Either rows or columns could be omitted\n",
    "    plots = {\n",
    "        \"221\": {\n",
    "            'values':[n/2 for n in reordered[:2] ],\n",
    "            'starting_location': \"NW\",\n",
    "            \"colors\": colors[:2],\n",
    "            \"columns\": col_part,\n",
    "        },\n",
    "        \"223\": {\n",
    "            'values':[n/2 for n in reordered[:2] ],\n",
    "            'starting_location': \"SW\",\n",
    "            \"colors\": colors[:2],\n",
    "            \"columns\": col_part,\n",
    "        },\n",
    "        \n",
    "        \"222\": {\n",
    "            'values':[n/2 for n in reordered[2:] ],\n",
    "            'starting_location': \"SW\",\n",
    "            \"colors\": colors[2:],\n",
    "            \"columns\": cols - col_part,\n",
    "        },\n",
    "        \"224\": {\n",
    "            'values':[n/2 for n in reordered[2:] ],\n",
    "            'starting_location': \"NW\",\n",
    "            \"colors\": colors[2:],\n",
    "            \"columns\": cols - col_part,\n",
    "        },\n",
    "        \n",
    "    },\n",
    "    #values=[fn/2, tp/2],\n",
    "    \n",
    "    vertical=False,\n",
    ")\n",
    "\n",
    "print(fig.__class__)\n",
    "\n",
    "fig.show()"
   ]
  },
  {
   "cell_type": "code",
   "execution_count": 282,
   "metadata": {},
   "outputs": [
    {
     "name": "stdout",
     "output_type": "stream",
     "text": [
      "(4, 2)\n",
      "(9, 8)\n",
      "midh = 4 h = 9\n",
      "tp =64\n",
      "fp = 32\n"
     ]
    },
    {
     "data": {
      "image/png": "[encoded data removed]",
      "text/plain": [
       "<Figure size 432x288 with 1 Axes>"
      ]
     },
     "metadata": {},
     "output_type": "display_data"
    }
   ],
   "source": [
    "\n",
    "def build_waffle_matrix(size, confusion_matrix):\n",
    "    rows, cols = size\n",
    "    hmap = np.zeros( (rows, cols) )\n",
    "    tn, fp, fn, tp = cm.ravel()\n",
    "    col_ratio = (fn+tp)/sum(cm.ravel())\n",
    "    col_part = int(math.floor(cols * col_ratio))\n",
    "    col_rest = int()\n",
    "\n",
    "    for ix in range(rows):\n",
    "        for iy in range(col_part):\n",
    "            hmap[ix, iy] = 1\n",
    "        for iy in range(col_part, cols):\n",
    "            hmap[ix, iy] = 4\n",
    "\n",
    "    h = int(math.ceil(max( tp/col_part, fp / (cols - col_part)) * rows * cols/ sum(reordered)))\n",
    "\n",
    "\n",
    "    a = int(math.ceil(tp/h * cols))\n",
    "    b = int(math.ceil(fp/h * cols))\n",
    "\n",
    "    print((a, b))\n",
    "\n",
    "    centery = col_part\n",
    "    centerx = int(math.ceil(rows / 2))\n",
    "    print( (centerx, centery) )\n",
    "    midh = int(round(h/2))\n",
    "    tp_boxes = int(round(tp * cols * rows / sum(reordered)))\n",
    "    fp_boxes = int(round(fp * cols * rows / sum(reordered)))\n",
    "    print(f\"midh = {midh} h = {h}\")\n",
    "    print(f\"tp ={tp_boxes}\")\n",
    "    print(f\"fp = {fp_boxes}\")\n",
    "    for n in range(tp_boxes):\n",
    "        ix = centerx - midh + (n % h)\n",
    "        iy = centery - n//h - 1\n",
    "        hmap[ix, iy] = 2\n",
    "\n",
    "    for n in range(fp_boxes):\n",
    "        ix = centerx - midh + (n % h)\n",
    "        iy = centery + n//h \n",
    "        hmap[ix, iy] = 3\n",
    "    return hmap\n",
    "\n",
    "def plot_waffle_matrix(hmap, \n",
    "                       cmap = (mpl.colors.ListedColormap([\"#88a770\", \"darkgreen\", \"red\", \"lightgrey\"])), \n",
    "                       linewidth=5\n",
    "                      ):\n",
    "    fig, ax = plt.subplots()\n",
    "\n",
    "    im = ax.imshow(hmap, cmap=cmap)\n",
    "    ax.set_xlabel(None)\n",
    "    ax.set_ylabel(None)\n",
    "    unitmove = 1.0\n",
    "    ax.set_xticks([])\n",
    "    ax.set_yticks([])\n",
    "    ax.set_xticks(np.arange(hmap.shape[1]+unitmove)-unitmove/2, minor=True)\n",
    "    ax.set_yticks(np.arange(hmap.shape[0]+unitmove)-unitmove/2, minor=True)\n",
    "    \n",
    "    ax.grid(which=\"minor\", color=\"w\", linestyle='-', linewidth=linewidth)\n",
    "    ax.tick_params(which=\"minor\", bottom=False, left=False)\n",
    "    ax.spines['top'].set_visible(False)\n",
    "    ax.spines['right'].set_visible(False)\n",
    "    ax.spines['bottom'].set_visible(False)\n",
    "    ax.spines['left'].set_visible(False)\n",
    "\n",
    "hmap = build_waffle_matrix( (17, 17), cm)\n",
    "plot_waffle_matrix(hmap)"
   ]
  },
  {
   "cell_type": "code",
   "execution_count": 283,
   "metadata": {},
   "outputs": [
    {
     "name": "stdout",
     "output_type": "stream",
     "text": [
      "(4, 2)\n",
      "(9, 8)\n",
      "midh = 4 h = 9\n",
      "tp =64\n",
      "fp = 32\n",
      "[ 64.22222222  64.22222222  32.11111111 128.44444444]\n",
      "[ 72  64  32 121]\n",
      "counts sum = 289 - cols x rows = 289 \n"
     ]
    },
    {
     "data": {
      "text/plain": [
       "0.005280073461891646"
      ]
     },
     "execution_count": 283,
     "metadata": {},
     "output_type": "execute_result"
    }
   ],
   "source": [
    "cols = 17\n",
    "rows = 17\n",
    "hmap = build_waffle_matrix( (cols, rows), cm)\n",
    "tn, fp, fn, tp = cm.ravel()\n",
    "_, counts = np.unique(hmap, return_counts=True)\n",
    "ordered_vector = [fn, tp, fp, tn]\n",
    "normalized_vect =  ordered_vector / sum(ordered_vector) * cols * rows\n",
    "\n",
    "print(normalized_vect)\n",
    "print(counts)\n",
    "print(f\"counts sum = {sum(counts)} - cols x rows = { cols * rows} \")\n",
    "\n",
    "error = (np.max(ratios) - np.min(ratios)) #/np.sum(ratios)\n",
    "error"
   ]
  },
  {
   "cell_type": "code",
   "execution_count": 177,
   "metadata": {},
   "outputs": [
    {
     "data": {
      "text/plain": [
       "42.857142857142854"
      ]
     },
     "execution_count": 177,
     "metadata": {},
     "output_type": "execute_result"
    }
   ],
   "source": [
    "tp/sum(reordered) * cols * rows\n"
   ]
  },
  {
   "cell_type": "code",
   "execution_count": 179,
   "metadata": {},
   "outputs": [
    {
     "data": {
      "text/plain": [
       "43"
      ]
     },
     "execution_count": 179,
     "metadata": {},
     "output_type": "execute_result"
    }
   ],
   "source": [
    "7*6+1"
   ]
  },
  {
   "cell_type": "code",
   "execution_count": 184,
   "metadata": {},
   "outputs": [
    {
     "data": {
      "text/plain": [
       "0.5"
      ]
     },
     "execution_count": 184,
     "metadata": {},
     "output_type": "execute_result"
    }
   ],
   "source": [
    "max( tp/col_part, fp / (cols - col_part))"
   ]
  },
  {
   "cell_type": "code",
   "execution_count": 185,
   "metadata": {},
   "outputs": [
    {
     "data": {
      "text/plain": [
       "(0.5, 0.25)"
      ]
     },
     "execution_count": 185,
     "metadata": {},
     "output_type": "execute_result"
    }
   ],
   "source": [
    "(tp/col_part, fp / (cols - col_part))"
   ]
  },
  {
   "cell_type": "code",
   "execution_count": 186,
   "metadata": {},
   "outputs": [
    {
     "data": {
      "text/plain": [
       "6"
      ]
     },
     "execution_count": 186,
     "metadata": {},
     "output_type": "execute_result"
    }
   ],
   "source": [
    "col_part"
   ]
  },
  {
   "cell_type": "code",
   "execution_count": null,
   "metadata": {},
   "outputs": [],
   "source": []
  }
 ],
 "metadata": {
  "kernelspec": {
   "display_name": "Python 3",
   "language": "python",
   "name": "python3"
  },
  "language_info": {
   "codemirror_mode": {
    "name": "ipython",
    "version": 3
   },
   "file_extension": ".py",
   "mimetype": "text/x-python",
   "name": "python",
   "nbconvert_exporter": "python",
   "pygments_lexer": "ipython3",
   "version": "3.7.6"
  }
 },
 "nbformat": 4,
 "nbformat_minor": 4
}
