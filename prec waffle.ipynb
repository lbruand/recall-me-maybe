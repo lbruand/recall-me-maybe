{
 "cells": [
  {
   "cell_type": "code",
   "execution_count": 13,
   "metadata": {},
   "outputs": [],
   "source": [
    "import matplotlib as mpl\n",
    "import matplotlib.pyplot as plt\n",
    "from sklearn.metrics import confusion_matrix\n",
    "from pywaffle import Waffle\n",
    "import numpy as np\n",
    "import math\n",
    "import itertools"
   ]
  },
  {
   "cell_type": "code",
   "execution_count": 2,
   "metadata": {},
   "outputs": [],
   "source": [
    "prec = 0.87\n",
    "recall = 0.37"
   ]
  },
  {
   "cell_type": "code",
   "execution_count": 3,
   "metadata": {},
   "outputs": [],
   "source": [
    "# (prec - 1) * tp + prec * fp = 0\n",
    "#(recall - 1) * tp + recall * fn = 0 \n",
    "# tp + fp + fn + tn = 1"
   ]
  },
  {
   "cell_type": "code",
   "execution_count": 104,
   "metadata": {},
   "outputs": [],
   "source": [
    "y_true = [0, 0, 1, 1, 0, 1, 1, 0, 0]\n",
    "y_pred = [0, 0, 0, 0, 1, 1, 1, 0, 0]\n",
    "cm = confusion_matrix(y_true, y_pred)"
   ]
  },
  {
   "cell_type": "code",
   "execution_count": 77,
   "metadata": {},
   "outputs": [
    {
     "data": {
      "text/plain": [
       "array([[4, 1],\n",
       "       [2, 2]])"
      ]
     },
     "execution_count": 77,
     "metadata": {},
     "output_type": "execute_result"
    }
   ],
   "source": [
    "cm"
   ]
  },
  {
   "cell_type": "code",
   "execution_count": 6,
   "metadata": {},
   "outputs": [
    {
     "name": "stderr",
     "output_type": "stream",
     "text": [
      "/home/lucas/anaconda3/lib/python3.7/site-packages/ipykernel_launcher.py:7: UserWarning: Matplotlib is currently using module://ipykernel.pylab.backend_inline, which is a non-GUI backend, so cannot show the figure.\n",
      "  import sys\n"
     ]
    },
    {
     "data": {
      "image/png": "[encoded data removed]",
      "text/plain": [
       "<Waffle size 432x288 with 1 Axes>"
      ]
     },
     "metadata": {
      "needs_background": "light"
     },
     "output_type": "display_data"
    }
   ],
   "source": [
    "fig = plt.figure(\n",
    "    FigureClass=Waffle,\n",
    "    rows=5,\n",
    "    columns=10,  # Either rows or columns could be omitted\n",
    "    values=cm.ravel()\n",
    ")\n",
    "fig.show()"
   ]
  },
  {
   "cell_type": "code",
   "execution_count": 7,
   "metadata": {},
   "outputs": [],
   "source": [
    "tn, fp, fn, tp = cm.ravel()"
   ]
  },
  {
   "cell_type": "code",
   "execution_count": 8,
   "metadata": {},
   "outputs": [
    {
     "name": "stderr",
     "output_type": "stream",
     "text": [
      "/home/lucas/anaconda3/lib/python3.7/site-packages/ipykernel_launcher.py:10: UserWarning: Matplotlib is currently using module://ipykernel.pylab.backend_inline, which is a non-GUI backend, so cannot show the figure.\n",
      "  # Remove the CWD from sys.path while we load stuff.\n"
     ]
    },
    {
     "data": {
      "image/png": "[encoded data removed]",
      "text/plain": [
       "<Waffle size 432x288 with 1 Axes>"
      ]
     },
     "metadata": {
      "needs_background": "light"
     },
     "output_type": "display_data"
    }
   ],
   "source": [
    "reordered = [fn, tp, fp, tn]\n",
    "colors=[\"darkgrey\", \"green\", \"red\", \"lightgrey\"]\n",
    "fig = plt.figure(\n",
    "    FigureClass=Waffle,\n",
    "    rows=10,\n",
    "    columns=10,  # Either rows or columns could be omitted\n",
    "    values=reordered,\n",
    "    colors=[\"darkgrey\", \"green\", \"red\", \"lightgrey\"]\n",
    ")\n",
    "fig.show()"
   ]
  },
  {
   "cell_type": "code",
   "execution_count": 9,
   "metadata": {},
   "outputs": [
    {
     "name": "stdout",
     "output_type": "stream",
     "text": [
      "<class 'pywaffle.waffle.Waffle'>\n"
     ]
    },
    {
     "name": "stderr",
     "output_type": "stream",
     "text": [
      "/home/lucas/anaconda3/lib/python3.7/site-packages/ipykernel_launcher.py:48: UserWarning: Matplotlib is currently using module://ipykernel.pylab.backend_inline, which is a non-GUI backend, so cannot show the figure.\n"
     ]
    },
    {
     "data": {
      "image/png": "[encoded data removed]",
      "text/plain": [
       "<Waffle size 432x288 with 4 Axes>"
      ]
     },
     "metadata": {
      "needs_background": "light"
     },
     "output_type": "display_data"
    }
   ],
   "source": [
    "reordered = [fn, tp, fp, tn]\n",
    "colors=[\"#88a770\", \"green\", \"red\", \"lightgrey\"]\n",
    "\n",
    "rows = 10\n",
    "cols = 10\n",
    "col_ratio = (fn+tp)/sum(reordered)\n",
    "col_part = int(round(cols * col_ratio))\n",
    "\n",
    "fig = plt.figure(\n",
    "    FigureClass=Waffle,\n",
    "    rows=rows // 2,\n",
    "      # Either rows or columns could be omitted\n",
    "    plots = {\n",
    "        \"221\": {\n",
    "            'values':[n/2 for n in reordered[:2] ],\n",
    "            'starting_location': \"NW\",\n",
    "            \"colors\": colors[:2],\n",
    "            \"columns\": col_part,\n",
    "        },\n",
    "        \"223\": {\n",
    "            'values':[n/2 for n in reordered[:2] ],\n",
    "            'starting_location': \"SW\",\n",
    "            \"colors\": colors[:2],\n",
    "            \"columns\": col_part,\n",
    "        },\n",
    "        \n",
    "        \"222\": {\n",
    "            'values':[n/2 for n in reordered[2:] ],\n",
    "            'starting_location': \"SW\",\n",
    "            \"colors\": colors[2:],\n",
    "            \"columns\": cols - col_part,\n",
    "        },\n",
    "        \"224\": {\n",
    "            'values':[n/2 for n in reordered[2:] ],\n",
    "            'starting_location': \"NW\",\n",
    "            \"colors\": colors[2:],\n",
    "            \"columns\": cols - col_part,\n",
    "        },\n",
    "        \n",
    "    },\n",
    "    #values=[fn/2, tp/2],\n",
    "    \n",
    "    vertical=False,\n",
    ")\n",
    "\n",
    "print(fig.__class__)\n",
    "\n",
    "fig.show()"
   ]
  },
  {
   "cell_type": "code",
   "execution_count": 105,
   "metadata": {},
   "outputs": [
    {
     "name": "stdout",
     "output_type": "stream",
     "text": [
      " h = 9\n",
      " 3, 4 == 4.0\n",
      " 4, 4 == 4.0\n",
      " 5, 4 == 4.0\n",
      " 6, 4 == 4.0\n",
      " 7, 4 == 4.0\n",
      " 8, 4 == 4.0\n",
      " 9, 4 == 4.0\n",
      " 10, 4 == 4.0\n",
      " 11, 4 == 4.0\n",
      " 3, 3 == 1.0\n",
      " 4, 3 == 1.0\n",
      " 5, 3 == 1.0\n",
      " 6, 3 == 1.0\n",
      " 7, 3 == 4.0\n",
      " 8, 3 == 4.0\n",
      " 9, 3 == 4.0\n",
      " 10, 3 == 4.0\n",
      " 11, 3 == 4.0\n",
      " 3, 2 == 1.0\n",
      " 4, 2 == 1.0\n",
      " 5, 2 == 1.0\n",
      " 6, 2 == 1.0\n",
      " 7, 2 == 1.0\n",
      " 8, 2 == 1.0\n",
      " 9, 2 == 1.0\n",
      " 10, 2 == 1.0\n",
      " 11, 2 == 1.0\n",
      " 3, 1 == 1.0\n",
      " 4, 1 == 1.0\n",
      " 5, 1 == 1.0\n",
      " 6, 1 == 1.0\n",
      " 7, 1 == 1.0\n",
      " 8, 1 == 1.0\n",
      " 9, 1 == 1.0\n",
      " 10, 1 == 1.0\n",
      " 11, 1 == 1.0\n",
      " 3, 0 == 1.0\n",
      " 4, 0 == 1.0\n",
      " 5, 0 == 1.0\n",
      " 3, 2 == 2.0\n",
      " 4, 2 == 2.0\n",
      " 5, 2 == 2.0\n",
      " 6, 2 == 2.0\n",
      " 7, 2 == 2.0\n",
      " 8, 2 == 2.0\n",
      " 9, 2 == 2.0\n",
      " 10, 2 == 2.0\n",
      " 11, 2 == 2.0\n",
      " 3, 3 == 2.0\n",
      " 4, 3 == 2.0\n",
      " 5, 3 == 2.0\n",
      " 6, 3 == 2.0\n",
      " 7, 3 == 4.0\n",
      " 8, 3 == 4.0\n",
      " 9, 3 == 4.0\n",
      " 10, 3 == 4.0\n",
      " 11, 3 == 4.0\n",
      " 3, 4 == 4.0\n",
      " 4, 4 == 4.0\n",
      " 5, 4 == 4.0\n",
      " 6, 4 == 4.0\n",
      " 7, 4 == 4.0\n",
      " 8, 4 == 4.0\n",
      " 9, 4 == 4.0\n"
     ]
    },
    {
     "data": {
      "image/png": "[encoded data removed]",
      "text/plain": [
       "<Figure size 432x288 with 1 Axes>"
      ]
     },
     "metadata": {},
     "output_type": "display_data"
    }
   ],
   "source": [
    "\n",
    "def build_waffle_matrix(size, confusion_matrix):\n",
    "    rows, cols = size\n",
    "    hmap = np.ones( (rows, cols) )\n",
    "    tn, fp, fn, tp = cm.ravel()\n",
    "    col_ratio = (fn+tp)/sum(cm.ravel())\n",
    "    col_part = int(math.floor(cols * col_ratio))\n",
    "    col_rest = int()\n",
    "    fn_tp_boxes = (fn+tp) * cols * rows // sum(cm.ravel())    \n",
    "\n",
    "    for n in range(fn_tp_boxes, rows * cols):\n",
    "        ix = n % rows\n",
    "        iy = n // rows\n",
    "        hmap[ix, iy] = 4\n",
    "\n",
    "    h = min(\n",
    "        int(math.ceil(max( tp/col_part, fp / (cols - col_part)) * rows * cols/ sum(reordered))),\n",
    "        rows)\n",
    "    print(f\" h = {h}\")\n",
    "\n",
    "    centery = col_part\n",
    "    centerx = int(math.ceil(rows / 2))\n",
    "\n",
    "    midh = int(round(h/2))\n",
    "    tp_boxes = int(round(tp * cols * rows / sum(reordered)))\n",
    "    fp_boxes = int(round(fp * cols * rows / sum(reordered)))\n",
    "\n",
    "    def boxes_generator(direction=-1, expected_value=1):\n",
    "        n = 0\n",
    "        while (True):\n",
    "            ix = centerx - midh + (n % h) \n",
    "            iy = centery + direction * (n//h - 1)\n",
    "            \n",
    "            n += 1\n",
    "            print(f\" {ix}, {iy} == {hmap[ix, iy]}\")\n",
    "            if hmap[ix, iy] == expected_value:\n",
    "                yield ix, iy\n",
    "                \n",
    "    tp_boxes_gen = boxes_generator(direction=-1, expected_value=1)\n",
    "    toUpdate = itertools.islice(tp_boxes_gen, tp_boxes)        \n",
    "    for xy in toUpdate:\n",
    "        ix, iy = xy\n",
    "        assert(hmap[ix, iy] == 1)\n",
    "        hmap[ix, iy] = 2\n",
    "        \n",
    "    fp_boxes_gen = boxes_generator(direction=1, expected_value=4)\n",
    "    toUpdate = itertools.islice(fp_boxes_gen, fp_boxes)\n",
    "    for xy in toUpdate:\n",
    "        ix, iy = xy        \n",
    "        assert(hmap[ix, iy] == 4)\n",
    "        hmap[ix, iy] = 3\n",
    "        \n",
    "    return hmap\n",
    "\n",
    "def plot_waffle_matrix(hmap, \n",
    "                       cmap = (mpl.colors.ListedColormap([\"#88a770\", \"darkgreen\", \"red\", \"lightgrey\"])), \n",
    "                       linewidth=5\n",
    "                      ):\n",
    "    fig, ax = plt.subplots()\n",
    "\n",
    "    im = ax.imshow(hmap, cmap=cmap)\n",
    "    ax.set_xlabel(None)\n",
    "    ax.set_ylabel(None)\n",
    "    unitmove = 1.0\n",
    "    ax.set_xticks([])\n",
    "    ax.set_yticks([])\n",
    "    ax.set_xticks(np.arange(hmap.shape[1]+unitmove)-unitmove/2, minor=True)\n",
    "    ax.set_yticks(np.arange(hmap.shape[0]+unitmove)-unitmove/2, minor=True)\n",
    "    \n",
    "    ax.grid(which=\"minor\", color=\"w\", linestyle='-', linewidth=linewidth)\n",
    "    ax.tick_params(which=\"minor\", bottom=False, left=False)\n",
    "    ax.spines['top'].set_visible(False)\n",
    "    ax.spines['right'].set_visible(False)\n",
    "    ax.spines['bottom'].set_visible(False)\n",
    "    ax.spines['left'].set_visible(False)\n",
    "\n",
    "hmap = build_waffle_matrix( (14, 8), cm)\n",
    "plot_waffle_matrix(hmap)"
   ]
  },
  {
   "cell_type": "code",
   "execution_count": 98,
   "metadata": {},
   "outputs": [
    {
     "name": "stdout",
     "output_type": "stream",
     "text": [
      "(14, 8)\n",
      "[[11 78]\n",
      " [66 45]]\n",
      " h = 8\n",
      " 0, 8 == 4.0\n",
      " 1, 8 == 4.0\n",
      " 2, 8 == 4.0\n",
      " 3, 8 == 4.0\n",
      " 4, 8 == 4.0\n",
      " 5, 8 == 4.0\n",
      " 6, 8 == 4.0\n",
      " 7, 8 == 4.0\n",
      " 0, 7 == 1.0\n",
      " 1, 7 == 1.0\n",
      " 2, 7 == 1.0\n",
      " 3, 7 == 1.0\n",
      " 4, 7 == 1.0\n",
      " 5, 7 == 1.0\n",
      " 6, 7 == 4.0\n",
      " 7, 7 == 4.0\n",
      " 0, 6 == 1.0\n",
      " 1, 6 == 1.0\n",
      " 2, 6 == 1.0\n",
      " 3, 6 == 1.0\n",
      " 4, 6 == 1.0\n",
      " 5, 6 == 1.0\n",
      " 6, 6 == 1.0\n",
      " 7, 6 == 1.0\n",
      " 0, 5 == 1.0\n",
      " 1, 5 == 1.0\n",
      " 2, 5 == 1.0\n",
      " 3, 5 == 1.0\n",
      " 4, 5 == 1.0\n",
      " 5, 5 == 1.0\n",
      " 6, 5 == 1.0\n",
      " 7, 5 == 1.0\n",
      " 0, 4 == 1.0\n",
      " 1, 4 == 1.0\n",
      " 2, 4 == 1.0\n",
      " 3, 4 == 1.0\n",
      " 4, 4 == 1.0\n",
      " 5, 4 == 1.0\n",
      " 6, 4 == 1.0\n",
      " 7, 4 == 1.0\n",
      " 0, 3 == 1.0\n",
      " 1, 3 == 1.0\n",
      " 2, 3 == 1.0\n",
      " 3, 3 == 1.0\n",
      " 4, 3 == 1.0\n",
      " 5, 3 == 1.0\n",
      " 6, 3 == 1.0\n",
      " 7, 3 == 1.0\n",
      " 0, 2 == 1.0\n",
      " 1, 2 == 1.0\n",
      " 2, 2 == 1.0\n",
      " 3, 2 == 1.0\n",
      " 4, 2 == 1.0\n",
      " 5, 2 == 1.0\n",
      " 6, 2 == 1.0\n",
      " 7, 2 == 1.0\n",
      " 0, 1 == 1.0\n",
      " 1, 1 == 1.0\n",
      " 2, 1 == 1.0\n",
      " 3, 1 == 1.0\n",
      " 4, 1 == 1.0\n",
      " 5, 1 == 1.0\n",
      " 6, 1 == 1.0\n",
      " 7, 1 == 1.0\n",
      " 0, 0 == 1.0\n",
      " 1, 0 == 1.0\n",
      " 2, 0 == 1.0\n",
      " 3, 0 == 1.0\n",
      " 4, 0 == 1.0\n",
      " 5, 0 == 1.0\n",
      " 6, 0 == 1.0\n",
      " 7, 0 == 1.0\n",
      " 0, -1 == 4.0\n",
      " 1, -1 == 4.0\n",
      " 2, -1 == 4.0\n",
      " 3, -1 == 4.0\n",
      " 4, -1 == 4.0\n",
      " 5, -1 == 4.0\n",
      " 6, -1 == 4.0\n",
      " 7, -1 == 4.0\n",
      " 0, -2 == 4.0\n",
      " 1, -2 == 4.0\n",
      " 2, -2 == 4.0\n",
      " 3, -2 == 4.0\n",
      " 4, -2 == 4.0\n",
      " 5, -2 == 4.0\n",
      " 6, -2 == 4.0\n",
      " 7, -2 == 4.0\n",
      " 0, -3 == 4.0\n",
      " 1, -3 == 4.0\n",
      " 2, -3 == 4.0\n",
      " 3, -3 == 4.0\n",
      " 4, -3 == 4.0\n",
      " 5, -3 == 4.0\n",
      " 6, -3 == 4.0\n",
      " 7, -3 == 4.0\n",
      " 0, -4 == 4.0\n",
      " 1, -4 == 4.0\n",
      " 2, -4 == 4.0\n",
      " 3, -4 == 4.0\n",
      " 4, -4 == 4.0\n",
      " 5, -4 == 4.0\n",
      " 6, -4 == 4.0\n",
      " 7, -4 == 4.0\n",
      " 0, -5 == 4.0\n",
      " 1, -5 == 4.0\n",
      " 2, -5 == 4.0\n",
      " 3, -5 == 4.0\n",
      " 4, -5 == 4.0\n",
      " 5, -5 == 4.0\n",
      " 6, -5 == 4.0\n",
      " 7, -5 == 4.0\n",
      " 0, -6 == 4.0\n",
      " 1, -6 == 4.0\n",
      " 2, -6 == 4.0\n",
      " 3, -6 == 4.0\n",
      " 4, -6 == 4.0\n",
      " 5, -6 == 4.0\n",
      " 6, -6 == 4.0\n",
      " 7, -6 == 4.0\n",
      " 0, -7 == 2.0\n",
      " 1, -7 == 2.0\n",
      " 2, -7 == 2.0\n",
      " 3, -7 == 2.0\n",
      " 4, -7 == 2.0\n",
      " 5, -7 == 2.0\n",
      " 6, -7 == 4.0\n",
      " 7, -7 == 4.0\n",
      " 0, -8 == 2.0\n",
      " 1, -8 == 2.0\n",
      " 2, -8 == 2.0\n",
      " 3, -8 == 2.0\n",
      " 4, -8 == 2.0\n",
      " 5, -8 == 2.0\n",
      " 6, -8 == 2.0\n",
      " 7, -8 == 2.0\n",
      " 0, -9 == 2.0\n",
      " 1, -9 == 2.0\n",
      " 2, -9 == 2.0\n",
      " 3, -9 == 2.0\n",
      " 4, -9 == 2.0\n",
      " 5, -9 == 2.0\n",
      " 6, -9 == 2.0\n",
      " 7, -9 == 2.0\n",
      " 0, -10 == 2.0\n",
      " 1, -10 == 2.0\n",
      " 2, -10 == 2.0\n",
      " 3, -10 == 2.0\n",
      " 4, -10 == 2.0\n",
      " 5, -10 == 2.0\n",
      " 6, -10 == 2.0\n",
      " 7, -10 == 2.0\n",
      " 0, -11 == 2.0\n",
      " 1, -11 == 2.0\n",
      " 2, -11 == 2.0\n",
      " 3, -11 == 2.0\n",
      " 4, -11 == 2.0\n",
      " 5, -11 == 2.0\n",
      " 6, -11 == 2.0\n",
      " 7, -11 == 2.0\n",
      " 0, -12 == 2.0\n",
      " 1, -12 == 2.0\n",
      " 2, -12 == 2.0\n",
      " 3, -12 == 2.0\n",
      " 4, -12 == 2.0\n",
      " 5, -12 == 2.0\n",
      " 6, -12 == 2.0\n",
      " 7, -12 == 2.0\n",
      " 0, -13 == 2.0\n",
      " 1, -13 == 2.0\n",
      " 2, -13 == 2.0\n",
      " 3, -13 == 2.0\n",
      " 4, -13 == 2.0\n",
      " 5, -13 == 2.0\n",
      " 6, -13 == 2.0\n",
      " 7, -13 == 2.0\n",
      " 0, -14 == 2.0\n",
      " 1, -14 == 2.0\n",
      " 2, -14 == 2.0\n",
      " 3, -14 == 2.0\n",
      " 4, -14 == 2.0\n",
      " 5, -14 == 2.0\n",
      " 6, -14 == 2.0\n",
      " 7, -14 == 2.0\n"
     ]
    },
    {
     "ename": "IndexError",
     "evalue": "index -15 is out of bounds for axis 1 with size 14",
     "output_type": "error",
     "traceback": [
      "\u001b[0;31m---------------------------------------------------------------------------\u001b[0m",
      "\u001b[0;31mIndexError\u001b[0m                                Traceback (most recent call last)",
      "\u001b[0;32m<ipython-input-98-701614f76fe1>\u001b[0m in \u001b[0;36m<module>\u001b[0;34m\u001b[0m\n\u001b[1;32m     28\u001b[0m     \u001b[0mprint\u001b[0m\u001b[0;34m(\u001b[0m\u001b[0mcm\u001b[0m\u001b[0;34m)\u001b[0m\u001b[0;34m\u001b[0m\u001b[0;34m\u001b[0m\u001b[0m\n\u001b[1;32m     29\u001b[0m \u001b[0;34m\u001b[0m\u001b[0m\n\u001b[0;32m---> 30\u001b[0;31m     \u001b[0mtest_build_waffle_matrix\u001b[0m\u001b[0;34m(\u001b[0m\u001b[0mcols\u001b[0m\u001b[0;34m,\u001b[0m \u001b[0mrows\u001b[0m\u001b[0;34m,\u001b[0m \u001b[0mcm\u001b[0m\u001b[0;34m)\u001b[0m\u001b[0;34m\u001b[0m\u001b[0;34m\u001b[0m\u001b[0m\n\u001b[0m",
      "\u001b[0;32m<ipython-input-98-701614f76fe1>\u001b[0m in \u001b[0;36mtest_build_waffle_matrix\u001b[0;34m(cols, rows, cm)\u001b[0m\n\u001b[1;32m      4\u001b[0m \u001b[0;34m\u001b[0m\u001b[0m\n\u001b[1;32m      5\u001b[0m \u001b[0;32mdef\u001b[0m \u001b[0mtest_build_waffle_matrix\u001b[0m\u001b[0;34m(\u001b[0m\u001b[0mcols\u001b[0m\u001b[0;34m,\u001b[0m \u001b[0mrows\u001b[0m\u001b[0;34m,\u001b[0m \u001b[0mcm\u001b[0m\u001b[0;34m)\u001b[0m\u001b[0;34m:\u001b[0m\u001b[0;34m\u001b[0m\u001b[0;34m\u001b[0m\u001b[0m\n\u001b[0;32m----> 6\u001b[0;31m     \u001b[0mhmap\u001b[0m \u001b[0;34m=\u001b[0m \u001b[0mbuild_waffle_matrix\u001b[0m\u001b[0;34m(\u001b[0m \u001b[0;34m(\u001b[0m\u001b[0mcols\u001b[0m\u001b[0;34m,\u001b[0m \u001b[0mrows\u001b[0m\u001b[0;34m)\u001b[0m\u001b[0;34m,\u001b[0m \u001b[0mcm\u001b[0m\u001b[0;34m)\u001b[0m\u001b[0;34m\u001b[0m\u001b[0;34m\u001b[0m\u001b[0m\n\u001b[0m\u001b[1;32m      7\u001b[0m     \u001b[0mtn\u001b[0m\u001b[0;34m,\u001b[0m \u001b[0mfp\u001b[0m\u001b[0;34m,\u001b[0m \u001b[0mfn\u001b[0m\u001b[0;34m,\u001b[0m \u001b[0mtp\u001b[0m \u001b[0;34m=\u001b[0m \u001b[0mcm\u001b[0m\u001b[0;34m.\u001b[0m\u001b[0mravel\u001b[0m\u001b[0;34m(\u001b[0m\u001b[0;34m)\u001b[0m\u001b[0;34m\u001b[0m\u001b[0;34m\u001b[0m\u001b[0m\n\u001b[1;32m      8\u001b[0m     \u001b[0mvalues\u001b[0m\u001b[0;34m,\u001b[0m \u001b[0mcounts\u001b[0m \u001b[0;34m=\u001b[0m \u001b[0mnp\u001b[0m\u001b[0;34m.\u001b[0m\u001b[0munique\u001b[0m\u001b[0;34m(\u001b[0m\u001b[0mhmap\u001b[0m\u001b[0;34m,\u001b[0m \u001b[0mreturn_counts\u001b[0m\u001b[0;34m=\u001b[0m\u001b[0;32mTrue\u001b[0m\u001b[0;34m)\u001b[0m\u001b[0;34m\u001b[0m\u001b[0;34m\u001b[0m\u001b[0m\n",
      "\u001b[0;32m<ipython-input-97-78f8aabca810>\u001b[0m in \u001b[0;36mbuild_waffle_matrix\u001b[0;34m(size, confusion_matrix)\u001b[0m\n\u001b[1;32m     38\u001b[0m     \u001b[0mtp_boxes_gen\u001b[0m \u001b[0;34m=\u001b[0m \u001b[0mboxes_generator\u001b[0m\u001b[0;34m(\u001b[0m\u001b[0mdirection\u001b[0m\u001b[0;34m=\u001b[0m\u001b[0;34m-\u001b[0m\u001b[0;36m1\u001b[0m\u001b[0;34m,\u001b[0m \u001b[0mexpected_value\u001b[0m\u001b[0;34m=\u001b[0m\u001b[0;36m1\u001b[0m\u001b[0;34m)\u001b[0m\u001b[0;34m\u001b[0m\u001b[0;34m\u001b[0m\u001b[0m\n\u001b[1;32m     39\u001b[0m     \u001b[0mtoUpdate\u001b[0m \u001b[0;34m=\u001b[0m \u001b[0mitertools\u001b[0m\u001b[0;34m.\u001b[0m\u001b[0mislice\u001b[0m\u001b[0;34m(\u001b[0m\u001b[0mtp_boxes_gen\u001b[0m\u001b[0;34m,\u001b[0m \u001b[0mtp_boxes\u001b[0m\u001b[0;34m)\u001b[0m\u001b[0;34m\u001b[0m\u001b[0;34m\u001b[0m\u001b[0m\n\u001b[0;32m---> 40\u001b[0;31m     \u001b[0;32mfor\u001b[0m \u001b[0mxy\u001b[0m \u001b[0;32min\u001b[0m \u001b[0mtoUpdate\u001b[0m\u001b[0;34m:\u001b[0m\u001b[0;34m\u001b[0m\u001b[0;34m\u001b[0m\u001b[0m\n\u001b[0m\u001b[1;32m     41\u001b[0m         \u001b[0mix\u001b[0m\u001b[0;34m,\u001b[0m \u001b[0miy\u001b[0m \u001b[0;34m=\u001b[0m \u001b[0mxy\u001b[0m\u001b[0;34m\u001b[0m\u001b[0;34m\u001b[0m\u001b[0m\n\u001b[1;32m     42\u001b[0m         \u001b[0;32massert\u001b[0m\u001b[0;34m(\u001b[0m\u001b[0mhmap\u001b[0m\u001b[0;34m[\u001b[0m\u001b[0mix\u001b[0m\u001b[0;34m,\u001b[0m \u001b[0miy\u001b[0m\u001b[0;34m]\u001b[0m \u001b[0;34m==\u001b[0m \u001b[0;36m1\u001b[0m\u001b[0;34m)\u001b[0m\u001b[0;34m\u001b[0m\u001b[0;34m\u001b[0m\u001b[0m\n",
      "\u001b[0;32m<ipython-input-97-78f8aabca810>\u001b[0m in \u001b[0;36mboxes_generator\u001b[0;34m(direction, expected_value)\u001b[0m\n\u001b[1;32m     32\u001b[0m \u001b[0;34m\u001b[0m\u001b[0m\n\u001b[1;32m     33\u001b[0m             \u001b[0mn\u001b[0m \u001b[0;34m+=\u001b[0m \u001b[0;36m1\u001b[0m\u001b[0;34m\u001b[0m\u001b[0;34m\u001b[0m\u001b[0m\n\u001b[0;32m---> 34\u001b[0;31m             \u001b[0mprint\u001b[0m\u001b[0;34m(\u001b[0m\u001b[0;34mf\" {ix}, {iy} == {hmap[ix, iy]}\"\u001b[0m\u001b[0;34m)\u001b[0m\u001b[0;34m\u001b[0m\u001b[0;34m\u001b[0m\u001b[0m\n\u001b[0m\u001b[1;32m     35\u001b[0m             \u001b[0;32mif\u001b[0m \u001b[0mhmap\u001b[0m\u001b[0;34m[\u001b[0m\u001b[0mix\u001b[0m\u001b[0;34m,\u001b[0m \u001b[0miy\u001b[0m\u001b[0;34m]\u001b[0m \u001b[0;34m==\u001b[0m \u001b[0mexpected_value\u001b[0m\u001b[0;34m:\u001b[0m\u001b[0;34m\u001b[0m\u001b[0;34m\u001b[0m\u001b[0m\n\u001b[1;32m     36\u001b[0m                 \u001b[0;32myield\u001b[0m \u001b[0mix\u001b[0m\u001b[0;34m,\u001b[0m \u001b[0miy\u001b[0m\u001b[0;34m\u001b[0m\u001b[0;34m\u001b[0m\u001b[0m\n",
      "\u001b[0;31mIndexError\u001b[0m: index -15 is out of bounds for axis 1 with size 14"
     ]
    }
   ],
   "source": [
    "import random\n",
    "random.seed(3)\n",
    "rng = np.random.default_rng(seed=42)\n",
    "\n",
    "def test_build_waffle_matrix(cols, rows, cm):\n",
    "    hmap = build_waffle_matrix( (cols, rows), cm)\n",
    "    tn, fp, fn, tp = cm.ravel()\n",
    "    values, counts = np.unique(hmap, return_counts=True)\n",
    "    result_counts = [0] * 4\n",
    "    for v, c in zip(values, counts):\n",
    "        print(v)\n",
    "        result_counts[int(v)-1] = c\n",
    "        \n",
    "    ordered_vector = [fn, tp, fp, tn]\n",
    "    normalized_vect =  ordered_vector / sum(ordered_vector) * cols * rows\n",
    "\n",
    "    print(normalized_vect)\n",
    "    print(result_counts)\n",
    "    print(f\"counts sum = {sum(result_counts)} - cols x rows = { cols * rows} \")\n",
    "    max_error = np.max(np.abs(normalized_vect - result_counts))    \n",
    "    assert max_error < 2.0, f\" max_error = {max_error}\"\n",
    "\n",
    "for i in range(15):\n",
    "    cols = random.randint(5, 15)\n",
    "    rows = random.randint(5, 15)\n",
    "    print( (rows, cols))\n",
    "    cm = rng.integers(low=3, high=100, size=(2, 2))\n",
    "    print(cm)\n",
    "    \n",
    "    test_build_waffle_matrix(cols, rows, cm)"
   ]
  },
  {
   "cell_type": "code",
   "execution_count": null,
   "metadata": {},
   "outputs": [],
   "source": [
    "\n"
   ]
  },
  {
   "cell_type": "code",
   "execution_count": null,
   "metadata": {},
   "outputs": [],
   "source": []
  },
  {
   "cell_type": "code",
   "execution_count": null,
   "metadata": {},
   "outputs": [],
   "source": [
    "max( tp/col_part, fp / (cols - col_part))"
   ]
  },
  {
   "cell_type": "code",
   "execution_count": null,
   "metadata": {},
   "outputs": [],
   "source": [
    "(tp/col_part, fp / (cols - col_part))"
   ]
  },
  {
   "cell_type": "code",
   "execution_count": null,
   "metadata": {},
   "outputs": [],
   "source": [
    "col_part"
   ]
  },
  {
   "cell_type": "code",
   "execution_count": null,
   "metadata": {},
   "outputs": [],
   "source": []
  }
 ],
 "metadata": {
  "kernelspec": {
   "display_name": "Python 3",
   "language": "python",
   "name": "python3"
  },
  "language_info": {
   "codemirror_mode": {
    "name": "ipython",
    "version": 3
   },
   "file_extension": ".py",
   "mimetype": "text/x-python",
   "name": "python",
   "nbconvert_exporter": "python",
   "pygments_lexer": "ipython3",
   "version": "3.7.6"
  }
 },
 "nbformat": 4,
 "nbformat_minor": 4
}
